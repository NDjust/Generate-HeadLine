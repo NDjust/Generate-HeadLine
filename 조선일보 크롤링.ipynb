{
 "cells": [
  {
   "cell_type": "markdown",
   "metadata": {},
   "source": [
    "# 조선일보 크롤링(연예)"
   ]
  },
  {
   "cell_type": "markdown",
   "metadata": {},
   "source": [
    "* 모듈 import"
   ]
  },
  {
   "cell_type": "code",
   "execution_count": 6,
   "metadata": {},
   "outputs": [],
   "source": [
    "from selenium import webdriver\n",
    "import pandas as pd\n",
    "from bs4 import BeautifulSoup\n",
    "import requests"
   ]
  },
  {
   "cell_type": "markdown",
   "metadata": {},
   "source": [
    "* chromedriver 다운로드 후 경로 설정"
   ]
  },
  {
   "cell_type": "code",
   "execution_count": 7,
   "metadata": {},
   "outputs": [],
   "source": [
    "path = r'C:\\Users\\a0105\\Downloads\\chromedriver_win32\\chromedriver.exe'"
   ]
  },
  {
   "cell_type": "markdown",
   "metadata": {},
   "source": [
    "* 연예 부분 웹주소 입력(date를 통해 날짜 조정)"
   ]
  },
  {
   "cell_type": "code",
   "execution_count": 34,
   "metadata": {},
   "outputs": [
    {
     "name": "stdout",
     "output_type": "stream",
     "text": [
      "['20190101', '20190102', '20190103']\n"
     ]
    }
   ],
   "source": [
    "import datetime\n",
    "\n",
    "date_range = []\n",
    "\n",
    "start = datetime.datetime.strptime(\"20190101\", \"%Y%m%d\")\n",
    "end = datetime.datetime.strptime(\"20190104\", \"%Y%m%d\") \n",
    "date_generated = [start + datetime.timedelta(days=x) for x in range(0, (end-start).days)]\n",
    "\n",
    "for date in date_generated:\n",
    "    date_range.append(date.strftime(\"%Y%m%d\"))\n",
    "\n",
    "print(date_range)"
   ]
  },
  {
   "cell_type": "code",
   "execution_count": 37,
   "metadata": {},
   "outputs": [],
   "source": [
    "url = 'http://news.chosun.com/ranking/list.html?type=&site=www&scode=star&term=&date='\n",
    "driver = webdriver.Chrome(path)\n",
    "    \n",
    "title = []\n",
    "heart = []\n",
    "link_ = []\n",
    "total_content = []\n",
    "\n",
    "    \n",
    "for i in date_range:\n",
    "    driver.get(url+ i)\n",
    "    \n",
    "    a = driver.page_source\n",
    "\n",
    "    soup = BeautifulSoup(a,'html.parser')\n",
    "\n",
    "    for tag in soup.select('dt > a > span'):\n",
    "        title.append(tag.text)\n",
    "\n",
    "    for names in soup.select('div > em'):\n",
    "        heart.append(names.text)    \n",
    "\n",
    "    for tags in soup.select('div > dt > a'):\n",
    "        link_.append(tags['href'])\n",
    "\n",
    "    link2_ = '[]'.join(link_)\n",
    "    link2_ = link2_.replace('https:','')\n",
    "    link3_ = link2_.split('[]')\n",
    "\n",
    "    for i in link3_:\n",
    "        base = requests.get('https:'+i)\n",
    "        base.encoding = 'utf-8'\n",
    "        soup = BeautifulSoup(base.text, 'html.parser',from_encoding='utf-8') \n",
    "    \n",
    "        content = []\n",
    "\n",
    "        for contents in soup.find_all('div',class_='par') :\n",
    "            content.append(contents.text)\n",
    "        total_content.append(content)\n"
   ]
  },
  {
   "cell_type": "code",
   "execution_count": 38,
   "metadata": {},
   "outputs": [
    {
     "name": "stdout",
     "output_type": "stream",
     "text": [
      "90\n",
      "90\n",
      "90\n",
      "3\n"
     ]
    }
   ],
   "source": [
    "print(len(title))\n",
    "print(len(heart))\n",
    "print(len(link_))\n",
    "print(len(total_content))"
   ]
  }
 ],
 "metadata": {
  "kernelspec": {
   "display_name": "Python 3",
   "language": "python",
   "name": "python3"
  },
  "language_info": {
   "codemirror_mode": {
    "name": "ipython",
    "version": 3
   },
   "file_extension": ".py",
   "mimetype": "text/x-python",
   "name": "python",
   "nbconvert_exporter": "python",
   "pygments_lexer": "ipython3",
   "version": "3.7.4"
  }
 },
 "nbformat": 4,
 "nbformat_minor": 2
}
