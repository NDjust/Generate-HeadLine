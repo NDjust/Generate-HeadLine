{
 "cells": [
  {
   "cell_type": "markdown",
   "metadata": {},
   "source": [
    "# 조선일보(연예)"
   ]
  },
  {
   "cell_type": "code",
   "execution_count": null,
   "metadata": {},
   "outputs": [],
   "source": [
    "from selenium import webdriver\n",
    "from selenium.webdriver.chrome.options import Options\n",
    "from selenium.webdriver.common.keys import Keys\n",
    "from selenium.common.exceptions import NoSuchAttributeException, InvalidSelectorException\n",
    "from bs4 import BeautifulSoup\n",
    "\n",
    "import datetime\n",
    "import requests"
   ]
  },
  {
   "cell_type": "code",
   "execution_count": 2,
   "metadata": {},
   "outputs": [],
   "source": [
    "PATH = './chromedriver_win32/chromedriver.exe'"
   ]
  },
  {
   "cell_type": "code",
   "execution_count": 3,
   "metadata": {},
   "outputs": [],
   "source": [
    "def load_chrome_browser():\n",
    "    \"\"\"\n",
    "    Load chrome brawser function. (to remove overlap code)\n",
    "    :return: Chrome browser Object.\n",
    "    \"\"\"\n",
    "    chrome_options = Options()\n",
    "    browser = webdriver.Chrome(\n",
    "        \"./chromedriver_win32/chromedriver.exe\", options=chrome_options)\n",
    "    browser.set_window_size(1920, 1280) # 윈도우 사이즈를 맞춰서 크롤링하기 쉽게 만들기.\n",
    "\n",
    "    return browser\n",
    "\n",
    "\n",
    "def get_content(link):\n",
    "    pass\n",
    "\n",
    "\n",
    "def get_data(start, end, url):\n",
    "    date_range = []\n",
    "    \n",
    "    start = datetime.datetime.strptime(start, \"%Y%m%d\")\n",
    "    end = datetime.datetime.strptime(end, \"%Y%m%d\")\n",
    "    \n",
    "    date_generated = [start + datetime.timedelta(days=x) for x in range(0, (end - start).days)]\n",
    "    driver = load_chrome_browser()\n",
    "\n",
    "    for date in date_generated:\n",
    "        date_range.append(date.strftime(\"%Y%m%d\"))\n",
    "\n",
    "    title = []\n",
    "    heart = []\n",
    "    link_ = []\n",
    "    total_content = []\n",
    "\n",
    "    for i in date_range:\n",
    "        driver.get(url + i)\n",
    "\n",
    "        a = driver.page_source\n",
    "\n",
    "        soup = BeautifulSoup(a, 'html.parser')\n",
    "\n",
    "        for tag in soup.select('dt > a > span'):\n",
    "            title.append(tag.text)\n",
    "\n",
    "        for names in soup.select('div > em'):\n",
    "            heart.append(names.text)\n",
    "\n",
    "        for tags in soup.select('div > dt > a'):\n",
    "            link_.append(tags['href'])\n",
    "\n",
    "        # Top 30에 있는 본문 링크를 가져와 링크타고 본문 스크래핑.\n",
    "        link2_ = '[]'.join(link_)\n",
    "        link2_ = link2_.replace('https:', '')\n",
    "        link3_ = link2_.split('[]')\n",
    "\n",
    "        for i in link3_:\n",
    "            base = requests.get('https:' + i)\n",
    "            base.encoding = 'utf-8'\n",
    "            soup = BeautifulSoup(base.text, 'html.parser', from_encoding='utf-8')\n",
    "        \n",
    "            content = []\n",
    "            \n",
    "            for contents in soup.find_all('div', class_='par'):\n",
    "                content.append(contents.text)\n",
    "            total_content.append(content)\n",
    "        \n",
    "    return print(len(title), len(heart), len(link_), len(total_content))"
   ]
  },
  {
   "cell_type": "code",
   "execution_count": 4,
   "metadata": {
    "scrolled": true
   },
   "outputs": [
    {
     "name": "stderr",
     "output_type": "stream",
     "text": [
      "C:\\ProgramData\\Anaconda3\\lib\\site-packages\\bs4\\__init__.py:185: UserWarning: You provided Unicode markup but also provided a value for from_encoding. Your from_encoding will be ignored.\n",
      "  warnings.warn(\"You provided Unicode markup but also provided a value for from_encoding. Your from_encoding will be ignored.\")\n"
     ]
    },
    {
     "name": "stdout",
     "output_type": "stream",
     "text": [
      "60 60 60 90\n"
     ]
    }
   ],
   "source": [
    "get_data('20200101','20200103','http://news.chosun.com/ranking/list.html?type=&site=www&scode=star&term=&date=')"
   ]
  },
  {
   "cell_type": "code",
   "execution_count": null,
   "metadata": {},
   "outputs": [],
   "source": []
  },
  {
   "cell_type": "code",
   "execution_count": null,
   "metadata": {},
   "outputs": [],
   "source": []
  }
 ],
 "metadata": {
  "kernelspec": {
   "display_name": "Python 3",
   "language": "python",
   "name": "python3"
  },
  "language_info": {
   "codemirror_mode": {
    "name": "ipython",
    "version": 3
   },
   "file_extension": ".py",
   "mimetype": "text/x-python",
   "name": "python",
   "nbconvert_exporter": "python",
   "pygments_lexer": "ipython3",
   "version": "3.7.4"
  }
 },
 "nbformat": 4,
 "nbformat_minor": 2
}
