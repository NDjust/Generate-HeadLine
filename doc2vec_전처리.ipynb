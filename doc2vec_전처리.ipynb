{
 "cells": [
  {
   "cell_type": "code",
   "execution_count": 137,
   "metadata": {},
   "outputs": [],
   "source": [
    "import pandas as pd\n",
    "import os\n",
    "import warnings\n",
    "import pickle"
   ]
  },
  {
   "cell_type": "code",
   "execution_count": 138,
   "metadata": {},
   "outputs": [],
   "source": [
    "#파일 경로 설정\n",
    "os.chdir('C:\\\\Users\\\\user\\\\doc2vec')\n",
    "\n",
    "file_list=os.listdir()\n",
    "summary_file=[file for file in file_list if file[:8]==\"summary_\"]"
   ]
  },
  {
   "cell_type": "code",
   "execution_count": 139,
   "metadata": {},
   "outputs": [
    {
     "data": {
      "text/plain": [
       "['summary_data_20170101_20170401.pickle',\n",
       " 'summary_data_20180101_20190101.pickle',\n",
       " 'summary_data_20190101_20200101.pickle']"
      ]
     },
     "execution_count": 139,
     "metadata": {},
     "output_type": "execute_result"
    }
   ],
   "source": [
    "summary_file"
   ]
  },
  {
   "cell_type": "code",
   "execution_count": 140,
   "metadata": {},
   "outputs": [],
   "source": [
    "#Data Join  \n",
    "summary_data=[]\n",
    "for file in summary_file:\n",
    "    with open(file, \"rb\") as f:\n",
    "        data = pickle.load(f)\n",
    "    summary_data.extend(data)"
   ]
  },
  {
   "cell_type": "code",
   "execution_count": 141,
   "metadata": {},
   "outputs": [
    {
     "data": {
      "text/plain": [
       "22924"
      ]
     },
     "execution_count": 141,
     "metadata": {},
     "output_type": "execute_result"
    }
   ],
   "source": [
    "len(summary_data)"
   ]
  },
  {
   "cell_type": "code",
   "execution_count": 142,
   "metadata": {},
   "outputs": [],
   "source": [
    "#None 처리\n",
    "summary=[]\n",
    "for row in range(len(summary_data)):\n",
    "    if summary_data[row]!=None: summary.append(summary_data[row])"
   ]
  },
  {
   "cell_type": "code",
   "execution_count": 143,
   "metadata": {},
   "outputs": [
    {
     "data": {
      "text/plain": [
       "22686"
      ]
     },
     "execution_count": 143,
     "metadata": {},
     "output_type": "execute_result"
    }
   ],
   "source": [
    "len(summary)"
   ]
  },
  {
   "cell_type": "code",
   "execution_count": 144,
   "metadata": {},
   "outputs": [],
   "source": [
    "#공백 개수 세기\n",
    "count_list=[]\n",
    "for row in range(len(summary)):\n",
    "    count=0\n",
    "    for sent in summary[row][2]:\n",
    "        if sent==\"\": count=count+1\n",
    "    count_list.append(count)"
   ]
  },
  {
   "cell_type": "code",
   "execution_count": 146,
   "metadata": {},
   "outputs": [],
   "source": [
    "#공백 문장 처리\n",
    "for row in range(len(count_list)):\n",
    "    for i in range(count_list[row]):\n",
    "        summary[row][2].remove(\"\")"
   ]
  },
  {
   "cell_type": "code",
   "execution_count": 147,
   "metadata": {},
   "outputs": [],
   "source": [
    "#뉴스 기사 최대 길이 추출\n",
    "news_len=0\n",
    "for row in range(len(summary)):\n",
    "    if len(summary[row][0])>news_len:\n",
    "        news_len=len(summary[row][0])"
   ]
  },
  {
   "cell_type": "code",
   "execution_count": 148,
   "metadata": {},
   "outputs": [],
   "source": [
    "#요약 문자의 길이가 뉴스 기사 문자 최대 길이보다 작거나 같으면서 요약 문장의 수가 3개이상인 것 만 추출\n",
    "data_list=[]\n",
    "for row in range(len(summary)):\n",
    "    count=0\n",
    "    sent_list=[]\n",
    "    for sent in summary[row][2]:\n",
    "        if len(sent)<=news_len:\n",
    "            count=count+1\n",
    "        else:\n",
    "            sent_list.append(sent)\n",
    "    for sent in sent_list:\n",
    "        summary[row][2].remove(sent)\n",
    "    if count>=3: data_list.append(summary[row])"
   ]
  },
  {
   "cell_type": "code",
   "execution_count": 150,
   "metadata": {},
   "outputs": [
    {
     "data": {
      "text/plain": [
       "12022"
      ]
     },
     "execution_count": 150,
     "metadata": {},
     "output_type": "execute_result"
    }
   ],
   "source": [
    "len(data_list)"
   ]
  },
  {
   "cell_type": "code",
   "execution_count": 117,
   "metadata": {},
   "outputs": [],
   "source": [
    "#데이터 저장\n",
    "with open(\"summary.pickle\", \"wb\") as f:\n",
    "    pickle.dump(data_list, f, pickle.HIGHEST_PROTOCOL)"
   ]
  }
 ],
 "metadata": {
  "kernelspec": {
   "display_name": "Python 3",
   "language": "python",
   "name": "python3"
  },
  "language_info": {
   "codemirror_mode": {
    "name": "ipython",
    "version": 3
   },
   "file_extension": ".py",
   "mimetype": "text/x-python",
   "name": "python",
   "nbconvert_exporter": "python",
   "pygments_lexer": "ipython3",
   "version": "3.7.3"
  }
 },
 "nbformat": 4,
 "nbformat_minor": 2
}
