{
 "cells": [
  {
   "cell_type": "code",
   "execution_count": 47,
   "metadata": {},
   "outputs": [],
   "source": [
    "import pandas as pd\n",
    "import os\n",
    "import pickle"
   ]
  },
  {
   "cell_type": "code",
   "execution_count": 48,
   "metadata": {},
   "outputs": [],
   "source": [
    "#파일 경로 설정\n",
    "os.chdir('데이터 존재 경로')\n",
    "\n",
    "#데이터 불러오기 (enter)\n",
    "with open(\"enter_keyword.pickle\", \"rb\") as f:\n",
    "    keyword = pickle.load(f)\n",
    "    \n",
    "with open(\"enter_keyword_real.pickle\", \"rb\") as f:\n",
    "    keyword_real = pickle.load(f)\n",
    "    \n",
    "#예외처리 (본문의 내용이 빈 부분은 공백으로 처리하였으므로 공백제거 수행)\n",
    "row_list=[]\n",
    "for row in range(len(keyword)):\n",
    "    if keyword[row]==\"\": row_list.append(row)\n",
    "\n",
    "#공백제거\n",
    "while len(row_list)>0:\n",
    "    row=row_list.pop(0)\n",
    "    keyword.remove(keyword[row])\n",
    "    keyword_real.remove(keyword_real[row])\n",
    "    for x in range(len(row_list)): row_list[x]=row_list[x]-1\n",
    "    \n",
    "#개수 세기 (keyword_real에 있는 단어가 keyword에 있는지)\n",
    "count_list=[]\n",
    "for row in range(len(keyword)):\n",
    "    count=0\n",
    "    for word in keyword_real[row]:\n",
    "        if word in keyword[row]:\n",
    "            count=count+1\n",
    "        else:\n",
    "            pass\n",
    "    count_list.append(count)"
   ]
  },
  {
   "cell_type": "code",
   "execution_count": 49,
   "metadata": {},
   "outputs": [
    {
     "data": {
      "text/plain": [
       "1.768"
      ]
     },
     "execution_count": 49,
     "metadata": {},
     "output_type": "execute_result"
    }
   ],
   "source": [
    "#전체 개수의 평균\n",
    "avg = round(sum(count_list)/len(count_list),3)\n",
    "avg\n",
    "#한 기사당 약 1~2개의 단어가 keyword_real에 포함된다."
   ]
  },
  {
   "cell_type": "code",
   "execution_count": 50,
   "metadata": {},
   "outputs": [],
   "source": [
    "#단어의 개수 세기\n",
    "word_list=[]\n",
    "for row in range(len(keyword_real)):\n",
    "    word_list.append(len(keyword_real[row]))"
   ]
  },
  {
   "cell_type": "code",
   "execution_count": 51,
   "metadata": {},
   "outputs": [
    {
     "data": {
      "text/plain": [
       "8.268"
      ]
     },
     "execution_count": 51,
     "metadata": {},
     "output_type": "execute_result"
    }
   ],
   "source": [
    "#기사마다의 단어의 개수\n",
    "count=round(sum(word_list)/len(keyword_real),3)\n",
    "count"
   ]
  },
  {
   "cell_type": "code",
   "execution_count": 52,
   "metadata": {},
   "outputs": [],
   "source": [
    "#데이터 불러오기\n",
    "with open(\"politics_keyword.pickle\", \"rb\") as f:\n",
    "    keyword = pickle.load(f)\n",
    "    \n",
    "with open(\"politics_keyword_real.pickle\", \"rb\") as f:\n",
    "    keyword_real = pickle.load(f)\n",
    "    \n",
    "#예외처리 (본문의 내용이 빈 부분은 공백으로 처리하였으므로 공백제거 수행)\n",
    "row_list=[]\n",
    "for row in range(len(keyword)):\n",
    "    if keyword[row]==\"\": row_list.append(row)\n",
    "\n",
    "#공백제거\n",
    "while len(row_list)>0:\n",
    "    row=row_list.pop(0)\n",
    "    keyword.remove(keyword[row])\n",
    "    keyword_real.remove(keyword_real[row])\n",
    "    for x in range(len(row_list)): row_list[x]=row_list[x]-1\n",
    "    \n",
    "#개수 세기 (keyword_real에 있는 단어가 keyword에 있는지)\n",
    "count_list=[]\n",
    "for row in range(len(keyword)):\n",
    "    count=0\n",
    "    for word in keyword_real[row]:\n",
    "        if word in keyword[row]:\n",
    "            count=count+1\n",
    "        else:\n",
    "            pass\n",
    "    count_list.append(count)"
   ]
  },
  {
   "cell_type": "code",
   "execution_count": 53,
   "metadata": {},
   "outputs": [
    {
     "data": {
      "text/plain": [
       "1.846"
      ]
     },
     "execution_count": 53,
     "metadata": {},
     "output_type": "execute_result"
    }
   ],
   "source": [
    "#전체 개수의 평균\n",
    "avg = round(sum(count_list)/len(count_list),3)\n",
    "avg\n",
    "#한 기사당 약 1~2개의 단어가 keyword_real에 포함된다."
   ]
  },
  {
   "cell_type": "code",
   "execution_count": 54,
   "metadata": {},
   "outputs": [],
   "source": [
    "#단어의 개수 세기\n",
    "word_list=[]\n",
    "for row in range(len(keyword_real)):\n",
    "    word_list.append(len(keyword_real[row]))"
   ]
  },
  {
   "cell_type": "code",
   "execution_count": 57,
   "metadata": {},
   "outputs": [
    {
     "data": {
      "text/plain": [
       "7.6"
      ]
     },
     "execution_count": 57,
     "metadata": {},
     "output_type": "execute_result"
    }
   ],
   "source": [
    "#기사마다의 단어의 개수\n",
    "count=round(sum(word_list)/len(keyword_real),3)\n",
    "count"
   ]
  }
 ],
 "metadata": {
  "kernelspec": {
   "display_name": "Python 3",
   "language": "python",
   "name": "python3"
  },
  "language_info": {
   "codemirror_mode": {
    "name": "ipython",
    "version": 3
   },
   "file_extension": ".py",
   "mimetype": "text/x-python",
   "name": "python",
   "nbconvert_exporter": "python",
   "pygments_lexer": "ipython3",
   "version": "3.7.3"
  }
 },
 "nbformat": 4,
 "nbformat_minor": 2
}
