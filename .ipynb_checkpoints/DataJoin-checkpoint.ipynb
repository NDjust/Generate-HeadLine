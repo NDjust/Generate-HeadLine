{
 "cells": [
  {
   "cell_type": "code",
   "execution_count": 34,
   "metadata": {},
   "outputs": [],
   "source": [
    "import pandas as pd\n",
    "import os\n",
    "import warnings\n",
    "\n",
    "import pickle"
   ]
  },
  {
   "cell_type": "code",
   "execution_count": 35,
   "metadata": {},
   "outputs": [],
   "source": [
    "#파일 경로 설정 (enter)\n",
    "os.chdir('C:\\\\Users\\\\user\\\\Generate-HeadLine\\\\enter_2years_2019_2018')\n",
    "\n",
    "file_list=os.listdir()\n",
    "origin_file=[file for file in file_list if file[:6]==\"origin\"]\n",
    "clean_file=[file for file in file_list if file[:5]==\"clean\"]"
   ]
  },
  {
   "cell_type": "code",
   "execution_count": 36,
   "metadata": {},
   "outputs": [],
   "source": [
    "#데이터 불러오기 (enter)\n",
    "enter_origin=[]\n",
    "for file in origin_file:\n",
    "    with open(file, \"rb\") as f:\n",
    "        origin = pickle.load(f)\n",
    "    enter_origin.extend(origin)\n",
    "    \n",
    "enter_clean=[]\n",
    "for file in clean_file:\n",
    "    with open(file, \"rb\") as f:\n",
    "        clean = pickle.load(f)\n",
    "    enter_clean.extend(clean)"
   ]
  },
  {
   "cell_type": "code",
   "execution_count": 37,
   "metadata": {},
   "outputs": [],
   "source": [
    "#파일 경로 설정 (politics)\n",
    "os.chdir('C:\\\\Users\\\\user\\\\Generate-HeadLine\\\\politics_2years_2019_2018')\n",
    "\n",
    "file_list=os.listdir()\n",
    "origin_file=[file for file in file_list if file[:6]==\"origin\"]\n",
    "clean_file=[file for file in file_list if file[:5]==\"clean\"]"
   ]
  },
  {
   "cell_type": "code",
   "execution_count": 38,
   "metadata": {},
   "outputs": [],
   "source": [
    "#데이터 불러오기 (politics)\n",
    "politics_origin=[]\n",
    "for file in origin_file:\n",
    "    with open(file, \"rb\") as f:\n",
    "        origin = pickle.load(f)\n",
    "    politics_origin.extend(origin)\n",
    "    \n",
    "politics_clean=[]\n",
    "for file in clean_file:\n",
    "    with open(file, \"rb\") as f:\n",
    "        clean = pickle.load(f)\n",
    "    politics_clean.extend(clean)"
   ]
  },
  {
   "cell_type": "code",
   "execution_count": 39,
   "metadata": {},
   "outputs": [],
   "source": [
    "#파일 경로 설정 (enter)\n",
    "os.chdir('C:\\\\Users\\\\user\\\\Generate-HeadLine')\n",
    "\n",
    "#데이터 저장\n",
    "with open(\"enter_origin.pickle\", \"wb\") as f:\n",
    "    pickle.dump(enter_origin, f, pickle.HIGHEST_PROTOCOL)\n",
    "    \n",
    "with open(\"enter_clean.pickle\", \"wb\") as f:\n",
    "    pickle.dump(enter_clean, f, pickle.HIGHEST_PROTOCOL)\n",
    "    \n",
    "with open(\"politics_origin.pickle\", \"wb\") as f:\n",
    "    pickle.dump(politics_origin, f, pickle.HIGHEST_PROTOCOL)\n",
    "    \n",
    "with open(\"politics_clean.pickle\", \"wb\") as f:\n",
    "    pickle.dump(politics_clean, f, pickle.HIGHEST_PROTOCOL)"
   ]
  }
 ],
 "metadata": {
  "kernelspec": {
   "display_name": "Python 3",
   "language": "python",
   "name": "python3"
  },
  "language_info": {
   "codemirror_mode": {
    "name": "ipython",
    "version": 3
   },
   "file_extension": ".py",
   "mimetype": "text/x-python",
   "name": "python",
   "nbconvert_exporter": "python",
   "pygments_lexer": "ipython3",
   "version": "3.7.3"
  }
 },
 "nbformat": 4,
 "nbformat_minor": 2
}
