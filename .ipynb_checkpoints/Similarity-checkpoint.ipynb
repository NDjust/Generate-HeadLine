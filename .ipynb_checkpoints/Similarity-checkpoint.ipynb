{
 "cells": [
  {
   "cell_type": "code",
   "execution_count": 11,
   "metadata": {},
   "outputs": [],
   "source": [
    "import pandas as pd\n",
    "import os\n",
    "import pickle"
   ]
  },
  {
   "cell_type": "code",
   "execution_count": 12,
   "metadata": {},
   "outputs": [],
   "source": [
    "#파일 경로 설정\n",
    "os.chdir('C:\\\\Users\\\\user\\\\Generate-HeadLine')\n",
    "\n",
    "#데이터 불러오기 (enter)\n",
    "with open(\"enter_keyword.pickle\", \"rb\") as f:\n",
    "    keyword = pickle.load(f)\n",
    "    \n",
    "with open(\"enter_keyword_real.pickle\", \"rb\") as f:\n",
    "    keyword_real = pickle.load(f)\n",
    "    \n",
    "#개수 세기 (keyword_real에 있는 단어가 keyword에 있는지)\n",
    "count_list=[]\n",
    "for row in range(len(keyword)):\n",
    "    count=0\n",
    "    for word in keyword_real[row]:\n",
    "        if word in keyword[row]:\n",
    "            count=count+1\n",
    "        else:\n",
    "            pass\n",
    "    count_list.append(count)"
   ]
  },
  {
   "cell_type": "code",
   "execution_count": 13,
   "metadata": {},
   "outputs": [
    {
     "data": {
      "text/plain": [
       "1.766"
      ]
     },
     "execution_count": 13,
     "metadata": {},
     "output_type": "execute_result"
    }
   ],
   "source": [
    "#전체 개수의 평균\n",
    "avg = round(sum(count_list)/len(count_list),3)\n",
    "avg\n",
    "#한 기사당 약 1~2개의 단어가 keyword_real에 포함된다."
   ]
  },
  {
   "cell_type": "code",
   "execution_count": 14,
   "metadata": {},
   "outputs": [],
   "source": [
    "#단어의 개수 세기\n",
    "word_list=[]\n",
    "for row in range(len(keyword_real)):\n",
    "    word_list.append(len(keyword_real[row]))"
   ]
  },
  {
   "cell_type": "code",
   "execution_count": 15,
   "metadata": {},
   "outputs": [
    {
     "data": {
      "text/plain": [
       "8.266"
      ]
     },
     "execution_count": 15,
     "metadata": {},
     "output_type": "execute_result"
    }
   ],
   "source": [
    "#기사마다의 단어의 개수\n",
    "count=round(sum(word_list)/len(keyword_real),3)\n",
    "count"
   ]
  },
  {
   "cell_type": "code",
   "execution_count": 16,
   "metadata": {},
   "outputs": [],
   "source": [
    "#데이터 불러오기\n",
    "with open(\"politics_keyword.pickle\", \"rb\") as f:\n",
    "    keyword = pickle.load(f)\n",
    "    \n",
    "with open(\"politics_keyword_real.pickle\", \"rb\") as f:\n",
    "    keyword_real = pickle.load(f)\n",
    "    \n",
    "#개수 세기 (keyword_real에 있는 단어가 keyword에 있는지)\n",
    "count_list=[]\n",
    "for row in range(len(keyword)):\n",
    "    count=0\n",
    "    for word in keyword_real[row]:\n",
    "        if word in keyword[row]:\n",
    "            count=count+1\n",
    "        else:\n",
    "            pass\n",
    "    count_list.append(count)"
   ]
  },
  {
   "cell_type": "code",
   "execution_count": 17,
   "metadata": {},
   "outputs": [
    {
     "data": {
      "text/plain": [
       "1.826"
      ]
     },
     "execution_count": 17,
     "metadata": {},
     "output_type": "execute_result"
    }
   ],
   "source": [
    "#전체 개수의 평균\n",
    "avg = round(sum(count_list)/len(count_list),3)\n",
    "avg\n",
    "#한 기사당 약 1~2개의 단어가 keyword_real에 포함된다."
   ]
  },
  {
   "cell_type": "code",
   "execution_count": 18,
   "metadata": {},
   "outputs": [],
   "source": [
    "#단어의 개수 세기\n",
    "word_list=[]\n",
    "for row in range(len(keyword_real)):\n",
    "    word_list.append(len(keyword_real[row]))"
   ]
  },
  {
   "cell_type": "code",
   "execution_count": 19,
   "metadata": {},
   "outputs": [
    {
     "data": {
      "text/plain": [
       "7.6"
      ]
     },
     "execution_count": 19,
     "metadata": {},
     "output_type": "execute_result"
    }
   ],
   "source": [
    "#기사마다의 단어의 개수\n",
    "count=round(sum(word_list)/len(keyword_real),3)\n",
    "count"
   ]
  }
 ],
 "metadata": {
  "kernelspec": {
   "display_name": "Python 3",
   "language": "python",
   "name": "python3"
  },
  "language_info": {
   "codemirror_mode": {
    "name": "ipython",
    "version": 3
   },
   "file_extension": ".py",
   "mimetype": "text/x-python",
   "name": "python",
   "nbconvert_exporter": "python",
   "pygments_lexer": "ipython3",
   "version": "3.7.3"
  }
 },
 "nbformat": 4,
 "nbformat_minor": 2
}
